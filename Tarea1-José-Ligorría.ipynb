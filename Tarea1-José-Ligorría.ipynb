{
 "cells": [
  {
   "cell_type": "markdown",
   "metadata": {},
   "source": [
    "# Tarea 1: GIT\n",
    "\n",
    "José Alberto Ligorría\n",
    "\n",
    "## Introducción\n",
    "GIT es una herramienta que nos ayuda a llevar el registro de los cambios ocurridos sobre una colección de archivos y carpetas a lo largo de un tiempo establecido por nosotros. Es especialmente útil cuando se trabaja en equipo ya que también tiene el registro del usuario que realizó el cambio junto a un opcional pero muy sugerido comentario sobre el objetico de la sobre escritura y la fecha del cambio. Adicionalmente GIT guarda todos y cada uno de las fases en que los archivos y ficheros fueron sobreescritos, permitiendo así regresar a versiones que pueden tener contenido importante por alguna razón, como por ejemplo si uno está trabajando en un projecto de manera individual día con día tiene diversas ideas, lo cual puede generar que de un día para otro uno guarde sobre una buena idea un cambio que resulte contraproducente y si está trabajando sin tener una modalidad de control de versiones como GIT es muy dificil que guarde cada versión en un archivo separado aún considerando tener cuidado con la metadata del archivo, mientras que utilizando GIT o similares ésta herramienta lleva ese registro en lugar de nosotros y si sucede el caso de que sobreescribe algo contraproducente puede ir a versiones anteriores de los archivos y regresar al momento en que se empezó a ir por un camino no muy útil, adicinalmente nos permite registrar motivos del cambio que nos ayudan a ubicar de manera más ágil el momento al que regresar.\n",
    "\n",
    "Otra ventaja que tiene el gestionar el control de versiones vía herramientas como GIT es que uno puede trabajar en paralelo, lo que significa es que puede tener múltipes espacios de trabajo sobre el mismo proyecto que ayuden a hacer una tarea en específico y así por un lado trabajar en los problemas de la sección \"A\" del proyecto mientras se avanza en la sección \"B\" del mismo, para luego llegar a un estado en donde unifica los cambios sobre las secciones \"A\" y \"B\".\n",
    "\n",
    "Trabajar con GIT aún en pequeños proyectos individuales como tareas no es una mala práctica ya que uno siempre tiene la posibilidad de revisar la información trabajada y que mejor que utilizando GIT para la gestión de versiones.\n",
    "\n",
    "Ahora bien, cómo nos puede ayudar si estamos colaborando con un equipo en lugar de proyectos individuales,  GIT es aún más útil en éste escenario ya que nos permite lo siguiente:\n",
    "+ Nos da una metodología de manejo de repositorio, en el cuál todos tienen la misma facilidad de acceso.\n",
    "+ Gestionar los problemas que suceden cuando en un momento existen varias personas trabajando en la misma parte del código.\n",
    "+ Así como nos permite llevar el registro de cambios en las carpetas de archivos, de la misma manera nos permite llevar los cambios en un mismo archivo, siendo especialmente útil saber los cambios en los archivos que correspondan a códigos o modulos de un programa. Permitiendo así responder las siguientes preguntas de una manera sencilla, concluyente y transaparente:\n",
    "    + ¿Quién escribió éste bloque de código?\n",
    "    + ¿Cuándo fue editada ésta línea del código? ¿Por qué? ¿Por quién? ¿Cuándo?\n",
    "    + ¿Por qué cierta unidad del código dejó de funcionar? \n",
    "\n",
    "Un detalle de GIT es que una vez uno entienda la utilidad del mismo, éste es sencillo de utilizar sin importar el que uno conozca concretamente cómo es que realiza la gestión de las versiones, entonces uno suele terminar (como lo fue en mi caso) memorizando códigos a correr en consola (como \"push\" y \"pull\" para subir y cargar) y mediante un error de carga (en una ocasión intenté subir un archivo de un tamaño mayor al permitido utilizando RStudio y ante la recomendación de que no le diera \"commit\" al no saber las consecuencias intenté realizar el \"commit\" y cuando me tocó hacer \"push\" éste archivo junto al \"commit\" no fueron subidos y por más que intenté no se suba el archivo no lo logré entonces procedí creando un nuevo repositorio en Github y subir todo otra vez tomando la consideración de no subir el archivo que me dio error previamente) se procede sacando una copia del repositorio actual, eliminando el repositorio en GIT y reiniciando el versionamiento del repositorio en GIT.\n",
    "\n",
    "Lo anterior sucede ya que la interfaz de GIT es poco intuitiva por lo que aprender GIT desde la intefaz y la línea de comandos puede originar en múltiples confusiones, aunque es factible aprender los comandos y ejecutarlos procediendo como se comentó cuando aparezca un error.\n",
    "\n",
    "Lo interesante de GIT, es que a pesar de tener dicha interfaz, lo que nos permite es de mucha utilidad y aunque no lo veamos, su diseño manifiesta una idea fácil de entender, lo cual nos permite ver desde las ideas los comandos a ser utilizados y así entender cómo trabajar con la linea de comandos. \n",
    "\n",
    "## Cómo funciona GIT?\n",
    "\n",
    "Como hemos descrito anteriormente, GIT guarda una colección de archivos y carpetas junto a metadata sobre los cambios a travez de una serie de tiempo (no necesariamente lineal), para lo cual GIT hace uso de la siguiente terminología:\n",
    "+ **blob:** Archivo, lo considera como un conjunto de bytes.\n",
    "+ **tree:** Directorio/Carpeta, la cual puede contener archivos y carpetas anidadas.\n",
    "+ **snapshot:** Directorio de mayor jerarquía que está siendo controlado por GIT.\n",
    "Git models the history of a collection of files and folders within some top-level directory as a series of snapshots. In Git terminology, a file is called a “blob”, and it’s just a bunch of bytes. A directory is called a “tree”, and it maps names to blobs or trees (so directories can contain other directories). A snapshot is the top-level tree that is being tracked. For example, we might have a tree as follows:\n",
    "\n"
   ]
  },
  {
   "cell_type": "code",
   "execution_count": null,
   "metadata": {},
   "outputs": [],
   "source": [
    "%magic"
   ]
  },
  {
   "cell_type": "code",
   "execution_count": null,
   "metadata": {},
   "outputs": [],
   "source": [
    "%%cmd\n",
    "ls"
   ]
  },
  {
   "cell_type": "code",
   "execution_count": null,
   "metadata": {},
   "outputs": [],
   "source": []
  },
  {
   "cell_type": "code",
   "execution_count": null,
   "metadata": {},
   "outputs": [],
   "source": []
  }
 ],
 "metadata": {
  "kernelspec": {
   "display_name": "Python 3",
   "language": "python",
   "name": "python3"
  },
  "language_info": {
   "codemirror_mode": {
    "name": "ipython",
    "version": 3
   },
   "file_extension": ".py",
   "mimetype": "text/x-python",
   "name": "python",
   "nbconvert_exporter": "python",
   "pygments_lexer": "ipython3",
   "version": "3.6.5"
  }
 },
 "nbformat": 4,
 "nbformat_minor": 2
}
