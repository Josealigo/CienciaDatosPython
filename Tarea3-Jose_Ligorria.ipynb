{
 "cells": [
  {
   "cell_type": "markdown",
   "metadata": {},
   "source": [
    "# José Ligorría\n",
    "## 20000604\n",
    "## PAPD - CIENCIA DE DATOS EN PYTHON - U"
   ]
  },
  {
   "cell_type": "markdown",
   "metadata": {},
   "source": [
    "## Tarea3: Funciones en Python\n",
    "\n",
    "### Función \n",
    "Una función en Python no es diferente a lo que es una función en un sentido matemático ya que toma de un conjunto predefinido (ya que aunque no se especifíque siempre hay una delimitación) de valores u objetos de entrada y en base a ellos y a otros valores por defecto se retorne un valor u objeto de salida. Por ejemplo:"
   ]
  },
  {
   "cell_type": "code",
   "execution_count": 12,
   "metadata": {},
   "outputs": [
    {
     "data": {
      "text/plain": [
       "3"
      ]
     },
     "execution_count": 12,
     "metadata": {},
     "output_type": "execute_result"
    }
   ],
   "source": [
    "def suma_binaria(a,b):\n",
    "    return a+b\n",
    "\n",
    "suma_binaria(1,2)"
   ]
  },
  {
   "cell_type": "markdown",
   "metadata": {},
   "source": [
    "### Parámetros Posisionales \n",
    "Al igual que las funciones en un sentido abstracto, Python al dominio de las funciones le da importancia al orden en que los valores aparecen y así los valores son asignados a las variables que en la definición de la funcion aparecen donde está el valor u objeto del dominio. Podemos observar ésto en el siguiente código:"
   ]
  },
  {
   "cell_type": "code",
   "execution_count": 4,
   "metadata": {},
   "outputs": [
    {
     "name": "stdout",
     "output_type": "stream",
     "text": [
      "La función operará con los siguientes parámetros: par1 ->  valor1 ; par2 ->  valor2 < par3 ->  valor3\n"
     ]
    }
   ],
   "source": [
    "def funcion_1(par1,par2,par3):\n",
    "    print('La función operará con los siguientes parámetros: par1 -> ',par1,'; par2 -> ',par2, '< par3 -> ',par3 )\n",
    "    pass\n",
    "\n",
    "funcion_1('valor1','valor2','valor3')"
   ]
  },
  {
   "cell_type": "markdown",
   "metadata": {},
   "source": [
    "### Parámetros Nombrados \n",
    "Una particularidad que tiene Python es que no todos los valores son asignados a las variables de acuerdo a su posición ya que aveces es dificil recordar la posición en la que se definió iba tal parámetro, más si uno no ha creado la variable, entonces Python nos permite que recordando el parámetro utilizado por la función nosotros poder darle el valor que queremos al llamarlo directamente por nombre y asignarle el valor como una asignación normal de variable. Ésto no evita que los parámetros llamados así sean colocados de acuerdo a la posición en la que se espera por lo cual llamar parámetros así es especialmente útil cuando la función que utilizamos tiene inmerso otros parámetros. Lo anterior lo vemos en el siguiente frame:"
   ]
  },
  {
   "cell_type": "code",
   "execution_count": 13,
   "metadata": {},
   "outputs": [
    {
     "name": "stdout",
     "output_type": "stream",
     "text": [
      "La función operará con los siguientes parámetros: par1 ->  valor1 ; par2 ->  valor2 < par3 ->  valor3\n"
     ]
    }
   ],
   "source": [
    "funcion_1('valor1','valor2',par3 = 'valor3')"
   ]
  },
  {
   "cell_type": "markdown",
   "metadata": {},
   "source": [
    "### Retorno de multiples valores\n",
    "Al igual que una función matemática en Python podemos hacer que el mapeo sea hacía un conjunto de multiples parámetros u objetos siempre especificandolos en la clausula return separados por coma. Algo que hay que tener en cuenta es que éste retorno devuelve una tupla con los valores en el orden especificado. Lo anterior lo podemos ver en el siguiente código:"
   ]
  },
  {
   "cell_type": "code",
   "execution_count": 15,
   "metadata": {},
   "outputs": [
    {
     "data": {
      "text/plain": [
       "(1, 2)"
      ]
     },
     "execution_count": 15,
     "metadata": {},
     "output_type": "execute_result"
    }
   ],
   "source": [
    "def funcion_2(par1,par2):\n",
    "    return par1,par2\n",
    "\n",
    "funcion_2(1,2)"
   ]
  },
  {
   "cell_type": "markdown",
   "metadata": {},
   "source": [
    "### Funciones como objetos y como parametros de otras funciones\n",
    "Recordemos que en Python una función por ser función no deja de ser un objeto utilizable en código o incluso por otras funciones entonces podemos utilizarla como utilizariamos a las demás varialbes, pero siempre teniendo la consideración que éstas por ser funciones necesitan ser utilizadas sobre un tercer objeto (o colección de objetos). Ésto lo podemos observar en el siguiente ejemplo:"
   ]
  },
  {
   "cell_type": "code",
   "execution_count": 17,
   "metadata": {},
   "outputs": [
    {
     "data": {
      "text/plain": [
       "((1, 2), (2, 3))"
      ]
     },
     "execution_count": 17,
     "metadata": {},
     "output_type": "execute_result"
    }
   ],
   "source": [
    "funcion_2(funcion_2(1,2),funcion_2(2,3))"
   ]
  },
  {
   "cell_type": "markdown",
   "metadata": {},
   "source": [
    "### Funciones anonimas o lambda\n",
    "Las funciones anónimas son funciones en sí pero con nomenclatura diferente ya que en están diseñadas para en una linea de código crear una función, por lo que usualmente se utilizan en una sola expresión; su principal utilidad son ser usadas en otras funciones donde en sí la función solo aporta en un momento y guardarla no es necesario.  Un ejemlo de función lambda es el que sigue:"
   ]
  },
  {
   "cell_type": "code",
   "execution_count": 18,
   "metadata": {},
   "outputs": [
    {
     "name": "stdout",
     "output_type": "stream",
     "text": [
      "10\n"
     ]
    }
   ],
   "source": [
    "x = lambda a: a + 10\n",
    "print(x(0))"
   ]
  }
 ],
 "metadata": {
  "kernelspec": {
   "display_name": "Python 3",
   "language": "python",
   "name": "python3"
  },
  "language_info": {
   "codemirror_mode": {
    "name": "ipython",
    "version": 3
   },
   "file_extension": ".py",
   "mimetype": "text/x-python",
   "name": "python",
   "nbconvert_exporter": "python",
   "pygments_lexer": "ipython3",
   "version": "3.7.1"
  }
 },
 "nbformat": 4,
 "nbformat_minor": 2
}
